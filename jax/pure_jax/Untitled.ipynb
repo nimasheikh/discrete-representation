{
 "cells": [
  {
   "cell_type": "code",
   "execution_count": 1,
   "id": "323c5b0e",
   "metadata": {},
   "outputs": [],
   "source": [
    "%load_ext autoreload"
   ]
  },
  {
   "cell_type": "code",
   "execution_count": 2,
   "id": "4f5d6a71",
   "metadata": {},
   "outputs": [],
   "source": [
    "%autoreload 2"
   ]
  },
  {
   "cell_type": "code",
   "execution_count": 3,
   "id": "1efe4643",
   "metadata": {},
   "outputs": [],
   "source": [
    "import sys\n",
    "sys.path.append(\"/Users/mahdi.sheikholeslami/REPOS/discrete-representation/jax/pure_jax\")"
   ]
  },
  {
   "cell_type": "code",
   "execution_count": 365,
   "id": "464aac06",
   "metadata": {},
   "outputs": [],
   "source": [
    "import jax.numpy as jnp\n",
    "from jax import grad, jit, vmap, random\n",
    "import numpy as np\n",
    "import optax\n",
    "import jax"
   ]
  },
  {
   "cell_type": "code",
   "execution_count": 366,
   "id": "4985e6e2",
   "metadata": {},
   "outputs": [],
   "source": [
    "from model import mlp_init_network_params, mlp_predict, mlp_random_layer_params, mlp_representation\n",
    "from datautils import get_datasets, NumpyLoader, mnist_dataset, mnist_dataset_test\n",
    "from utils import keyGen\n",
    "from train import fit, loss_optax, accuracy"
   ]
  },
  {
   "cell_type": "code",
   "execution_count": 367,
   "id": "f56647f8",
   "metadata": {},
   "outputs": [],
   "source": [
    "mnist_test_image = jnp.concatenate([mnist_dataset_test[i][0][None, :] for i in range(1000)], axis = 0)\n",
    "mnist_test_labels = jnp.array([mnist_dataset_test[i][1] for i in range(1000)])[:, None]"
   ]
  },
  {
   "cell_type": "code",
   "execution_count": 368,
   "id": "f587804d",
   "metadata": {},
   "outputs": [
    {
     "data": {
      "text/plain": [
       "(1000, 1)"
      ]
     },
     "execution_count": 368,
     "metadata": {},
     "output_type": "execute_result"
    }
   ],
   "source": [
    "mnist_test_labels.shape"
   ]
  },
  {
   "cell_type": "code",
   "execution_count": 369,
   "id": "3f1b7360",
   "metadata": {},
   "outputs": [
    {
     "data": {
      "text/plain": [
       "DeviceArray([[2, 3],\n",
       "             [4, 5]], dtype=int32)"
      ]
     },
     "execution_count": 369,
     "metadata": {},
     "output_type": "execute_result"
    }
   ],
   "source": [
    "jnp.concatenate( [ jnp.array([[2,3]]), jnp.array([[4,5]]) ])"
   ]
  },
  {
   "cell_type": "code",
   "execution_count": 370,
   "id": "c982d1b5",
   "metadata": {},
   "outputs": [],
   "source": [
    "keygen = keyGen()"
   ]
  },
  {
   "cell_type": "code",
   "execution_count": 371,
   "id": "606c947b",
   "metadata": {},
   "outputs": [
    {
     "data": {
      "text/plain": [
       "DeviceArray([[-0.13150859,  0.04672344, -0.04399896,  0.01546367,\n",
       "               0.03607774,  0.08812708, -0.05662421,  0.00067977,\n",
       "              -0.08499786, -0.03657673],\n",
       "             [-0.15354598,  0.03896669, -0.04109894,  0.04463703,\n",
       "               0.03662867,  0.0779243 , -0.05236621,  0.03147275,\n",
       "              -0.08654519, -0.05707055]], dtype=float32)"
      ]
     },
     "execution_count": 371,
     "metadata": {},
     "output_type": "execute_result"
    }
   ],
   "source": [
    "mlp_predict(mlp_params, next(b)[0], keygen())"
   ]
  },
  {
   "cell_type": "code",
   "execution_count": 372,
   "id": "12988120",
   "metadata": {},
   "outputs": [],
   "source": [
    "sizes = [784, 500, 200, 50, 10]"
   ]
  },
  {
   "cell_type": "code",
   "execution_count": 373,
   "id": "c8975c75",
   "metadata": {},
   "outputs": [],
   "source": [
    "mlp_params = mlp_init_network_params(sizes, keygen())"
   ]
  },
  {
   "cell_type": "code",
   "execution_count": 374,
   "id": "9701ffe9",
   "metadata": {},
   "outputs": [],
   "source": [
    "optimizer = optax.adam(learning_rate=1e-4)"
   ]
  },
  {
   "cell_type": "code",
   "execution_count": null,
   "id": "5c234e3a",
   "metadata": {},
   "outputs": [],
   "source": []
  },
  {
   "cell_type": "code",
   "execution_count": 375,
   "id": "e5d1a52e",
   "metadata": {},
   "outputs": [],
   "source": [
    "DATAGEN = NumpyLoader(mnist_dataset, batch_size=50)"
   ]
  },
  {
   "cell_type": "code",
   "execution_count": 376,
   "id": "bbf2d04a",
   "metadata": {},
   "outputs": [],
   "source": [
    "mlp_predict_ = lambda params, image: mlp_predict(params, image, 0, noise_status=False)\n",
    "loss_func = lambda params, image, targets, rkey : loss_optax(params, image, targets, mlp_predict, rkey, noise_status=False)   \n",
    "acc_func = lambda params, images, targets: accuracy(params, images, targets, mlp_predict_)"
   ]
  },
  {
   "cell_type": "code",
   "execution_count": 377,
   "id": "506e4402",
   "metadata": {},
   "outputs": [],
   "source": [
    "pps = jnp.zeros([4, 10])"
   ]
  },
  {
   "cell_type": "code",
   "execution_count": 378,
   "id": "63df6a9e",
   "metadata": {},
   "outputs": [
    {
     "data": {
      "text/plain": [
       "DeviceArray([[7],\n",
       "             [2],\n",
       "             [1],\n",
       "             [0]], dtype=int32)"
      ]
     },
     "execution_count": 378,
     "metadata": {},
     "output_type": "execute_result"
    }
   ],
   "source": [
    "mnist_test_labels[:4]"
   ]
  },
  {
   "cell_type": "code",
   "execution_count": 379,
   "id": "f216712f",
   "metadata": {},
   "outputs": [],
   "source": [
    "pps = pps.at[jnp.arange(4), mnist_test_labels[:4].squeeze()].set(100)"
   ]
  },
  {
   "cell_type": "code",
   "execution_count": 380,
   "id": "8c5e9c0f",
   "metadata": {},
   "outputs": [
    {
     "name": "stdout",
     "output_type": "stream",
     "text": [
      "step 0, loss: 2.3010683059692383\n",
      "step 100, loss: 2.044616937637329\n",
      "step 200, loss: 1.8653136491775513\n",
      "step 300, loss: 1.6460514068603516\n",
      "step 400, loss: 1.5417754650115967\n",
      "step 500, loss: 1.323885202407837\n",
      "step 600, loss: 1.2946404218673706\n",
      "step 700, loss: 1.0740212202072144\n",
      "step 800, loss: 1.0058300495147705\n",
      "step 900, loss: 0.9718137979507446\n",
      "step 1000, loss: 0.8122867941856384\n",
      "step 1100, loss: 0.7607800364494324\n",
      "acc: 0.9510000348091125 \n",
      "step 0, loss: 0.7227511405944824\n",
      "step 100, loss: 0.6341555118560791\n",
      "step 200, loss: 0.6088122129440308\n",
      "step 300, loss: 0.4648611843585968\n",
      "step 400, loss: 0.6009835600852966\n",
      "step 500, loss: 0.335225373506546\n",
      "step 600, loss: 0.4709201753139496\n",
      "step 700, loss: 0.2967621386051178\n",
      "step 800, loss: 0.32448774576187134\n",
      "step 900, loss: 0.3433608114719391\n",
      "step 1000, loss: 0.23497577011585236\n",
      "step 1100, loss: 0.24862051010131836\n",
      "acc: 0.9630000591278076 \n",
      "step 0, loss: 0.2538604438304901\n",
      "step 100, loss: 0.25118499994277954\n",
      "step 200, loss: 0.30953270196914673\n",
      "step 300, loss: 0.13220401108264923\n",
      "step 400, loss: 0.2545851767063141\n",
      "step 500, loss: 0.10439519584178925\n",
      "step 600, loss: 0.2309911996126175\n",
      "step 700, loss: 0.11402875930070877\n",
      "step 800, loss: 0.1441604644060135\n",
      "step 900, loss: 0.21285447478294373\n",
      "step 1000, loss: 0.10326910018920898\n",
      "step 1100, loss: 0.105609230697155\n",
      "acc: 0.9690000414848328 \n",
      "step 0, loss: 0.08236870914697647\n",
      "step 100, loss: 0.1189625933766365\n",
      "step 200, loss: 0.11934806406497955\n",
      "step 300, loss: 0.045880258083343506\n",
      "step 400, loss: 0.13103975355625153\n",
      "step 500, loss: 0.04858042299747467\n",
      "step 600, loss: 0.0663122683763504\n",
      "step 700, loss: 0.04003484547138214\n",
      "step 800, loss: 0.03888753056526184\n",
      "step 900, loss: 0.1414061188697815\n",
      "step 1000, loss: 0.051132313907146454\n",
      "step 1100, loss: 0.04729499667882919\n",
      "acc: 0.9760000705718994 \n",
      "step 0, loss: 0.0363684743642807\n",
      "step 100, loss: 0.052004288882017136\n",
      "step 200, loss: 0.04909076541662216\n",
      "step 300, loss: 0.021585088223218918\n",
      "step 400, loss: 0.06196453794836998\n",
      "step 500, loss: 0.024786293506622314\n",
      "step 600, loss: 0.03893087059259415\n",
      "step 700, loss: 0.05344408378005028\n",
      "step 800, loss: 0.023437153548002243\n",
      "step 900, loss: 0.05791957303881645\n",
      "step 1000, loss: 0.020956410095095634\n",
      "step 1100, loss: 0.02348657324910164\n",
      "acc: 0.9730000495910645 \n"
     ]
    }
   ],
   "source": [
    "for epoch in range(5):\n",
    "    mlp_params = fit(mlp_params, optimizer, DATAGEN, keygen, loss_func)\n",
    "    print(f\"acc: {acc_func(mlp_params, mnist_test_image, mnist_test_labels)} \")"
   ]
  },
  {
   "cell_type": "code",
   "execution_count": 381,
   "id": "c90fd1d6",
   "metadata": {},
   "outputs": [
    {
     "data": {
      "text/plain": [
       "DeviceArray([1.00000000e+00, 3.18334729e-04, 1.00000000e+00,\n",
       "             9.92960274e-01, 9.99999404e-01, 9.99999404e-01,\n",
       "             9.99998927e-01, 9.91979277e-07, 9.99997735e-01,\n",
       "             9.99998808e-01, 1.00000000e+00, 1.94914729e-09,\n",
       "             1.20089494e-08, 1.00000000e+00, 3.28520059e-06,\n",
       "             1.87737932e-08, 1.29687990e-07, 9.99961972e-01,\n",
       "             3.85462045e-06, 6.06926287e-09, 9.99988794e-01,\n",
       "             9.99989629e-01, 4.21799884e-09, 9.99580920e-01,\n",
       "             1.00000000e+00, 2.64349254e-08, 1.00000000e+00,\n",
       "             4.59628851e-08, 9.99962687e-01, 9.99992490e-01,\n",
       "             9.99995708e-01, 9.99994397e-01, 9.99984384e-01,\n",
       "             9.99993205e-01, 9.10374729e-06, 9.99973416e-01,\n",
       "             9.99997854e-01, 9.99999881e-01, 5.85319356e-07,\n",
       "             1.35594689e-06, 1.00000000e+00, 3.62419087e-06,\n",
       "             1.80771701e-06, 9.99335110e-01, 1.09840464e-07,\n",
       "             3.47290443e-05, 4.15709678e-07, 9.99710858e-01,\n",
       "             9.99955893e-01, 9.99999881e-01], dtype=float32)"
      ]
     },
     "execution_count": 381,
     "metadata": {},
     "output_type": "execute_result"
    }
   ],
   "source": [
    "mlp_representation(mlp_params, mnist_test_image[0])"
   ]
  },
  {
   "cell_type": "code",
   "execution_count": 382,
   "id": "495ad9af",
   "metadata": {},
   "outputs": [
    {
     "data": {
      "text/plain": [
       "DeviceArray(0.7310586, dtype=float32, weak_type=True)"
      ]
     },
     "execution_count": 382,
     "metadata": {},
     "output_type": "execute_result"
    }
   ],
   "source": [
    "jax.nn.sigmoid(1)"
   ]
  },
  {
   "cell_type": "code",
   "execution_count": null,
   "id": "0803dd84",
   "metadata": {},
   "outputs": [],
   "source": []
  }
 ],
 "metadata": {
  "kernelspec": {
   "display_name": "Python 3 (ipykernel)",
   "language": "python",
   "name": "python3"
  },
  "language_info": {
   "codemirror_mode": {
    "name": "ipython",
    "version": 3
   },
   "file_extension": ".py",
   "mimetype": "text/x-python",
   "name": "python",
   "nbconvert_exporter": "python",
   "pygments_lexer": "ipython3",
   "version": "3.8.13"
  }
 },
 "nbformat": 4,
 "nbformat_minor": 5
}
