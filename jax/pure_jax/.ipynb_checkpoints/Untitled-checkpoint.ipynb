{
 "cells": [
  {
   "cell_type": "code",
   "execution_count": 1,
   "id": "323c5b0e",
   "metadata": {},
   "outputs": [],
   "source": [
    "%load_ext autoreload"
   ]
  },
  {
   "cell_type": "code",
   "execution_count": 2,
   "id": "4f5d6a71",
   "metadata": {},
   "outputs": [],
   "source": [
    "%autoreload 2"
   ]
  },
  {
   "cell_type": "code",
   "execution_count": 3,
   "id": "1efe4643",
   "metadata": {},
   "outputs": [],
   "source": [
    "import sys\n",
    "sys.path.append(\"/Users/mahdi.sheikholeslami/REPOS/discrete-representation/jax/pure_jax\")"
   ]
  },
  {
   "cell_type": "code",
   "execution_count": 4,
   "id": "464aac06",
   "metadata": {},
   "outputs": [],
   "source": [
    "import jax.numpy as jnp\n",
    "from jax import grad, jit, vmap, random\n",
    "import numpy as np\n",
    "import optax"
   ]
  },
  {
   "cell_type": "code",
   "execution_count": 102,
   "id": "4985e6e2",
   "metadata": {},
   "outputs": [],
   "source": [
    "from model import mlp_init_network_params, mlp_predict, mlp_random_layer_params\n",
    "from datautils import get_datasets, NumpyLoader, mnist_dataset, mnist_dataset_test\n",
    "from utils import keyGen\n",
    "from train import fit, loss_optax, accuracy"
   ]
  },
  {
   "cell_type": "code",
   "execution_count": 138,
   "id": "4d01756d",
   "metadata": {},
   "outputs": [],
   "source": [
    "mnist_test_image = jnp.concatenate([mnist_dataset_test[i][0][None, :] for i in range(1000)], axis = 0)\n",
    "mnist_test_labels = jnp.array([mnist_dataset_test[i][1] for i in range(1000)])[:, None]"
   ]
  },
  {
   "cell_type": "code",
   "execution_count": 139,
   "id": "9dc0afb3",
   "metadata": {},
   "outputs": [
    {
     "data": {
      "text/plain": [
       "(1000, 1)"
      ]
     },
     "execution_count": 139,
     "metadata": {},
     "output_type": "execute_result"
    }
   ],
   "source": [
    "mnist_test_labels.shape"
   ]
  },
  {
   "cell_type": "code",
   "execution_count": 123,
   "id": "b6668b18",
   "metadata": {},
   "outputs": [
    {
     "data": {
      "text/plain": [
       "DeviceArray([[2, 3],\n",
       "             [4, 5]], dtype=int32)"
      ]
     },
     "execution_count": 123,
     "metadata": {},
     "output_type": "execute_result"
    }
   ],
   "source": [
    "jnp.concatenate( [ jnp.array([[2,3]]), jnp.array([[4,5]]) ])"
   ]
  },
  {
   "cell_type": "code",
   "execution_count": 152,
   "id": "c982d1b5",
   "metadata": {},
   "outputs": [],
   "source": [
    "keygen = keyGen()"
   ]
  },
  {
   "cell_type": "code",
   "execution_count": 166,
   "id": "8183d240",
   "metadata": {},
   "outputs": [
    {
     "data": {
      "text/plain": [
       "DeviceArray([[ 0.005678  , -0.03078904, -0.02785828, -0.02646085,\n",
       "              -0.01557131, -0.01790255,  0.03742388, -0.00832564,\n",
       "              -0.01919282, -0.02202495],\n",
       "             [ 0.00947505, -0.06592139, -0.03296196, -0.0313613 ,\n",
       "              -0.02733926, -0.01012118,  0.0284051 , -0.01502349,\n",
       "               0.00201138, -0.01434156]], dtype=float32)"
      ]
     },
     "execution_count": 166,
     "metadata": {},
     "output_type": "execute_result"
    }
   ],
   "source": [
    "mlp_predict(mlp_params, next(b)[0], keygen())"
   ]
  },
  {
   "cell_type": "code",
   "execution_count": 167,
   "id": "12988120",
   "metadata": {},
   "outputs": [],
   "source": [
    "sizes = [784, 500, 200, 50, 10]"
   ]
  },
  {
   "cell_type": "code",
   "execution_count": 168,
   "id": "c8975c75",
   "metadata": {},
   "outputs": [],
   "source": [
    "mlp_params = mlp_init_network_params(sizes, keygen())"
   ]
  },
  {
   "cell_type": "code",
   "execution_count": 179,
   "id": "9701ffe9",
   "metadata": {},
   "outputs": [],
   "source": [
    "optimizer = optax.adam(learning_rate=1e-2)"
   ]
  },
  {
   "cell_type": "code",
   "execution_count": 180,
   "id": "e5d1a52e",
   "metadata": {},
   "outputs": [],
   "source": [
    "DATAGEN = NumpyLoader(mnist_dataset, batch_size=20)"
   ]
  },
  {
   "cell_type": "code",
   "execution_count": 190,
   "id": "594027ba",
   "metadata": {},
   "outputs": [],
   "source": [
    "mlp_predict_ = lambda params, image: mlp_predict(params, image, 0, noise_status=False)\n",
    "loss_func = lambda params, image, targets, rkey : loss_optax(params, image, targets, mlp_predict, rkey, noise_status=False)   \n",
    "acc_func = lambda params, images, targets: accuracy(params, images, targets, mlp_predict_)"
   ]
  },
  {
   "cell_type": "code",
   "execution_count": 191,
   "id": "b3c8d05b",
   "metadata": {},
   "outputs": [
    {
     "data": {
      "text/plain": [
       "DeviceArray(2.534894, dtype=float32)"
      ]
     },
     "execution_count": 191,
     "metadata": {},
     "output_type": "execute_result"
    }
   ],
   "source": [
    "loss_func(mlp_params, *next(b), keygen()).mean()"
   ]
  },
  {
   "cell_type": "code",
   "execution_count": null,
   "id": "8c5e9c0f",
   "metadata": {},
   "outputs": [
    {
     "name": "stdout",
     "output_type": "stream",
     "text": [
      "step 0, loss: 2.315286636352539\n",
      "step 100, loss: 2.3454933166503906\n",
      "step 200, loss: 2.338923215866089\n",
      "step 300, loss: 2.311330795288086\n",
      "step 400, loss: 2.332747220993042\n",
      "step 500, loss: 2.317288875579834\n",
      "step 600, loss: 2.2723584175109863\n",
      "step 700, loss: 2.328678846359253\n",
      "step 800, loss: 2.330751419067383\n",
      "step 900, loss: 2.2559401988983154\n",
      "step 1000, loss: 2.3358452320098877\n",
      "step 1100, loss: 2.311107873916626\n",
      "step 1200, loss: 2.3231770992279053\n",
      "step 1300, loss: 2.306614637374878\n",
      "step 1400, loss: 2.2541263103485107\n",
      "step 1500, loss: 2.2869784832000732\n",
      "step 1600, loss: 2.341543674468994\n",
      "step 1700, loss: 2.3046047687530518\n",
      "step 1800, loss: 2.3493220806121826\n",
      "step 1900, loss: 2.3265254497528076\n",
      "step 2000, loss: 2.346198320388794\n",
      "step 2100, loss: 2.3469371795654297\n",
      "step 2200, loss: 2.294936180114746\n",
      "step 2300, loss: 2.33237886428833\n",
      "step 2400, loss: 2.3619086742401123\n",
      "step 2500, loss: 2.318956136703491\n",
      "step 2600, loss: 2.3124842643737793\n",
      "step 2700, loss: 2.3382716178894043\n",
      "step 2800, loss: 2.2968525886535645\n",
      "step 2900, loss: 2.3205676078796387\n",
      "acc: 0.12600000202655792 \n"
     ]
    }
   ],
   "source": [
    "for epoch in range(5):\n",
    "    mlp_params = fit(mlp_params, optimizer, DATAGEN, keygen, loss_func)\n",
    "    print(f\"acc: {acc_func(mlp_params, mnist_test_image, mnist_test_labels)} \")"
   ]
  },
  {
   "cell_type": "code",
   "execution_count": 113,
   "id": "4f8d9450",
   "metadata": {},
   "outputs": [],
   "source": [
    "a = mnist_dataset_test"
   ]
  },
  {
   "cell_type": "code",
   "execution_count": 115,
   "id": "16850d4c",
   "metadata": {},
   "outputs": [
    {
     "data": {
      "text/plain": [
       "(array([  0.,   0.,   0.,   0.,   0.,   0.,   0.,   0.,   0.,   0.,   0.,\n",
       "          0.,   0.,   0.,   0.,   0.,   0.,   0.,   0.,   0.,   0.,   0.,\n",
       "          0.,   0.,   0.,   0.,   0.,   0.,   0.,   0.,   0.,   0.,   0.,\n",
       "          0.,   0.,   0.,   0.,   0.,   0.,   0.,   0.,   0.,   0.,   0.,\n",
       "          0.,   0.,   0.,   0.,   0.,   0.,   0.,   0.,   0.,   0.,   0.,\n",
       "          0.,   0.,   0.,   0.,   0.,   0.,   0.,   0.,   0.,   0.,   0.,\n",
       "          0.,   0.,   0.,   0.,   0.,   0.,   0.,   0.,   0.,   0.,   0.,\n",
       "          0.,   0.,   0.,   0.,   0.,   0.,   0.,   0.,   0.,   0.,   0.,\n",
       "          0.,   0.,   0.,   0.,   0.,   0.,   0.,   0.,   0.,   0.,   0.,\n",
       "          0.,   0.,   0.,   0.,   0.,   0.,   0.,   0.,   0.,   0.,   0.,\n",
       "          0.,   0.,   0.,   0.,   0.,   0.,   0.,   0.,   0.,   0.,   0.,\n",
       "          0.,   0.,   0.,   0.,   0.,   0.,   0.,   0.,   0.,   0.,   0.,\n",
       "          0.,   0.,   0.,   0.,   0.,   0.,   0.,   0.,   0.,   0.,   0.,\n",
       "          0.,   0.,   0.,   0.,   0.,   0.,   0.,   0.,   0.,   0.,   0.,\n",
       "          0.,   0.,   0.,   0.,   0.,   0.,   0.,   0.,   0.,   0.,   0.,\n",
       "          0.,   0.,   0.,   0.,   0.,   0.,   0.,   0.,   0.,   0.,   0.,\n",
       "          0.,   0.,   0.,   0.,   0.,   0.,   0.,   0.,   0.,   0.,   0.,\n",
       "          0.,   0.,   0.,   0.,   0.,   0.,   0.,   0.,   0.,   0.,   0.,\n",
       "          0.,   0.,   0.,   0.,  84., 185., 159., 151.,  60.,  36.,   0.,\n",
       "          0.,   0.,   0.,   0.,   0.,   0.,   0.,   0.,   0.,   0.,   0.,\n",
       "          0.,   0.,   0.,   0.,   0.,   0.,   0.,   0.,   0.,   0., 222.,\n",
       "        254., 254., 254., 254., 241., 198., 198., 198., 198., 198., 198.,\n",
       "        198., 198., 170.,  52.,   0.,   0.,   0.,   0.,   0.,   0.,   0.,\n",
       "          0.,   0.,   0.,   0.,   0.,  67., 114.,  72., 114., 163., 227.,\n",
       "        254., 225., 254., 254., 254., 250., 229., 254., 254., 140.,   0.,\n",
       "          0.,   0.,   0.,   0.,   0.,   0.,   0.,   0.,   0.,   0.,   0.,\n",
       "          0.,   0.,   0.,   0.,   0.,  17.,  66.,  14.,  67.,  67.,  67.,\n",
       "         59.,  21., 236., 254., 106.,   0.,   0.,   0.,   0.,   0.,   0.,\n",
       "          0.,   0.,   0.,   0.,   0.,   0.,   0.,   0.,   0.,   0.,   0.,\n",
       "          0.,   0.,   0.,   0.,   0.,   0.,   0.,  83., 253., 209.,  18.,\n",
       "          0.,   0.,   0.,   0.,   0.,   0.,   0.,   0.,   0.,   0.,   0.,\n",
       "          0.,   0.,   0.,   0.,   0.,   0.,   0.,   0.,   0.,   0.,   0.,\n",
       "          0.,  22., 233., 255.,  83.,   0.,   0.,   0.,   0.,   0.,   0.,\n",
       "          0.,   0.,   0.,   0.,   0.,   0.,   0.,   0.,   0.,   0.,   0.,\n",
       "          0.,   0.,   0.,   0.,   0.,   0.,   0., 129., 254., 238.,  44.,\n",
       "          0.,   0.,   0.,   0.,   0.,   0.,   0.,   0.,   0.,   0.,   0.,\n",
       "          0.,   0.,   0.,   0.,   0.,   0.,   0.,   0.,   0.,   0.,   0.,\n",
       "          0.,  59., 249., 254.,  62.,   0.,   0.,   0.,   0.,   0.,   0.,\n",
       "          0.,   0.,   0.,   0.,   0.,   0.,   0.,   0.,   0.,   0.,   0.,\n",
       "          0.,   0.,   0.,   0.,   0.,   0.,   0., 133., 254., 187.,   5.,\n",
       "          0.,   0.,   0.,   0.,   0.,   0.,   0.,   0.,   0.,   0.,   0.,\n",
       "          0.,   0.,   0.,   0.,   0.,   0.,   0.,   0.,   0.,   0.,   0.,\n",
       "          0.,   9., 205., 248.,  58.,   0.,   0.,   0.,   0.,   0.,   0.,\n",
       "          0.,   0.,   0.,   0.,   0.,   0.,   0.,   0.,   0.,   0.,   0.,\n",
       "          0.,   0.,   0.,   0.,   0.,   0.,   0., 126., 254., 182.,   0.,\n",
       "          0.,   0.,   0.,   0.,   0.,   0.,   0.,   0.,   0.,   0.,   0.,\n",
       "          0.,   0.,   0.,   0.,   0.,   0.,   0.,   0.,   0.,   0.,   0.,\n",
       "          0.,  75., 251., 240.,  57.,   0.,   0.,   0.,   0.,   0.,   0.,\n",
       "          0.,   0.,   0.,   0.,   0.,   0.,   0.,   0.,   0.,   0.,   0.,\n",
       "          0.,   0.,   0.,   0.,   0.,   0.,  19., 221., 254., 166.,   0.,\n",
       "          0.,   0.,   0.,   0.,   0.,   0.,   0.,   0.,   0.,   0.,   0.,\n",
       "          0.,   0.,   0.,   0.,   0.,   0.,   0.,   0.,   0.,   0.,   0.,\n",
       "          3., 203., 254., 219.,  35.,   0.,   0.,   0.,   0.,   0.,   0.,\n",
       "          0.,   0.,   0.,   0.,   0.,   0.,   0.,   0.,   0.,   0.,   0.,\n",
       "          0.,   0.,   0.,   0.,   0.,   0.,  38., 254., 254.,  77.,   0.,\n",
       "          0.,   0.,   0.,   0.,   0.,   0.,   0.,   0.,   0.,   0.,   0.,\n",
       "          0.,   0.,   0.,   0.,   0.,   0.,   0.,   0.,   0.,   0.,   0.,\n",
       "         31., 224., 254., 115.,   1.,   0.,   0.,   0.,   0.,   0.,   0.,\n",
       "          0.,   0.,   0.,   0.,   0.,   0.,   0.,   0.,   0.,   0.,   0.,\n",
       "          0.,   0.,   0.,   0.,   0.,   0., 133., 254., 254.,  52.,   0.,\n",
       "          0.,   0.,   0.,   0.,   0.,   0.,   0.,   0.,   0.,   0.,   0.,\n",
       "          0.,   0.,   0.,   0.,   0.,   0.,   0.,   0.,   0.,   0.,   0.,\n",
       "         61., 242., 254., 254.,  52.,   0.,   0.,   0.,   0.,   0.,   0.,\n",
       "          0.,   0.,   0.,   0.,   0.,   0.,   0.,   0.,   0.,   0.,   0.,\n",
       "          0.,   0.,   0.,   0.,   0.,   0., 121., 254., 254., 219.,  40.,\n",
       "          0.,   0.,   0.,   0.,   0.,   0.,   0.,   0.,   0.,   0.,   0.,\n",
       "          0.,   0.,   0.,   0.,   0.,   0.,   0.,   0.,   0.,   0.,   0.,\n",
       "          0., 121., 254., 207.,  18.,   0.,   0.,   0.,   0.,   0.,   0.,\n",
       "          0.,   0.,   0.,   0.,   0.,   0.,   0.,   0.,   0.,   0.,   0.,\n",
       "          0.,   0.,   0.,   0.,   0.,   0.,   0.,   0.,   0.,   0.,   0.,\n",
       "          0.,   0.,   0.,   0.,   0.,   0.,   0.,   0.,   0.,   0.,   0.,\n",
       "          0.,   0.,   0.], dtype=float32),\n",
       " 7)"
      ]
     },
     "execution_count": 115,
     "metadata": {},
     "output_type": "execute_result"
    }
   ],
   "source": [
    "a[0]"
   ]
  },
  {
   "cell_type": "code",
   "execution_count": null,
   "id": "0bbe06e6",
   "metadata": {},
   "outputs": [],
   "source": []
  }
 ],
 "metadata": {
  "kernelspec": {
   "display_name": "Python 3 (ipykernel)",
   "language": "python",
   "name": "python3"
  },
  "language_info": {
   "codemirror_mode": {
    "name": "ipython",
    "version": 3
   },
   "file_extension": ".py",
   "mimetype": "text/x-python",
   "name": "python",
   "nbconvert_exporter": "python",
   "pygments_lexer": "ipython3",
   "version": "3.8.13"
  }
 },
 "nbformat": 4,
 "nbformat_minor": 5
}
