{
 "cells": [
  {
   "cell_type": "code",
   "execution_count": 1,
   "id": "91785ab6",
   "metadata": {},
   "outputs": [],
   "source": [
    "%load_ext autoreload"
   ]
  },
  {
   "cell_type": "code",
   "execution_count": 2,
   "id": "2249c81a",
   "metadata": {},
   "outputs": [],
   "source": [
    "%autoreload 2"
   ]
  },
  {
   "cell_type": "code",
   "execution_count": 108,
   "id": "d6fdb6e6",
   "metadata": {},
   "outputs": [],
   "source": [
    "from datautils import get_datasets\n",
    "from utils import one_hot, train_epoch, eval_model, create_train_state, model_class, cross_entropy_loss\n",
    "from models import CNN, simpleMLP\n",
    "from influence_utils import hvp, tree2NormalTree"
   ]
  },
  {
   "cell_type": "code",
   "execution_count": 5,
   "id": "7af4d71a",
   "metadata": {},
   "outputs": [],
   "source": [
    "from jax import value_and_grad, grad, random\n",
    "import jax.numpy as jnp"
   ]
  },
  {
   "cell_type": "code",
   "execution_count": 6,
   "id": "4c9bb6eb",
   "metadata": {},
   "outputs": [],
   "source": [
    "train_ds, test_ds = get_datasets()"
   ]
  },
  {
   "cell_type": "code",
   "execution_count": 31,
   "id": "00ce1421",
   "metadata": {},
   "outputs": [],
   "source": [
    "num_epochs = 5\n",
    "batch_size = 64\n",
    "rng = random.PRNGKey(0)\n",
    "rng, init_rng = random.split(rng)\n",
    "learning_rate = 0.1\n",
    "momentum = 0.9\n",
    "state = create_train_state(init_rng, learning_rate, momentum)\n",
    "del init_rng  # Must not be used anymore."
   ]
  },
  {
   "cell_type": "code",
   "execution_count": 8,
   "id": "92e305c8",
   "metadata": {},
   "outputs": [
    {
     "name": "stdout",
     "output_type": "stream",
     "text": [
      "train epoch: 1, loss: 0.2453, accuracy: 92.47\n",
      " test epoch: 1, loss: 0.15, accuracy: 95.30\n",
      "train epoch: 2, loss: 0.1149, accuracy: 96.58\n",
      " test epoch: 2, loss: 0.14, accuracy: 95.68\n",
      "train epoch: 3, loss: 0.0906, accuracy: 97.17\n",
      " test epoch: 3, loss: 0.11, accuracy: 96.71\n",
      "train epoch: 4, loss: 0.0723, accuracy: 97.68\n",
      " test epoch: 4, loss: 0.11, accuracy: 96.77\n",
      "train epoch: 5, loss: 0.0601, accuracy: 98.04\n",
      " test epoch: 5, loss: 0.12, accuracy: 96.46\n"
     ]
    }
   ],
   "source": [
    "\"\"\" Training \"\"\"\n",
    "for epoch in range(1, num_epochs + 1):\n",
    "  # Use a separate PRNG key to permute image data during shuffling\n",
    "  rng, input_rng = random.split(rng)\n",
    "  # Run an optimization step over a training batch\n",
    "  state = train_epoch(state, train_ds, batch_size, epoch, input_rng)\n",
    "  # Evaluate on the test set after each training epoch \n",
    "  test_loss, test_accuracy = eval_model(state.params, test_ds)\n",
    "  print(' test epoch: %d, loss: %.2f, accuracy: %.2f' % (\n",
    "      epoch, test_loss, test_accuracy * 100))"
   ]
  },
  {
   "cell_type": "code",
   "execution_count": null,
   "id": "2e5661ab",
   "metadata": {},
   "outputs": [],
   "source": []
  },
  {
   "cell_type": "code",
   "execution_count": null,
   "id": "09246258",
   "metadata": {},
   "outputs": [],
   "source": []
  }
 ],
 "metadata": {
  "kernelspec": {
   "display_name": "Python 3 (ipykernel)",
   "language": "python",
   "name": "python3"
  },
  "language_info": {
   "codemirror_mode": {
    "name": "ipython",
    "version": 3
   },
   "file_extension": ".py",
   "mimetype": "text/x-python",
   "name": "python",
   "nbconvert_exporter": "python",
   "pygments_lexer": "ipython3",
   "version": "3.8.13"
  }
 },
 "nbformat": 4,
 "nbformat_minor": 5
}
