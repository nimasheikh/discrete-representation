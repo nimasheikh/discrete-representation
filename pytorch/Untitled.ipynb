{
 "cells": [
  {
   "cell_type": "code",
   "execution_count": 1,
   "id": "8396c4ad",
   "metadata": {},
   "outputs": [],
   "source": [
    "%load_ext autoreload"
   ]
  },
  {
   "cell_type": "code",
   "execution_count": 2,
   "id": "7b222ccb",
   "metadata": {},
   "outputs": [],
   "source": [
    "%autoreload 2"
   ]
  },
  {
   "cell_type": "code",
   "execution_count": 5,
   "id": "11fec8a2",
   "metadata": {},
   "outputs": [],
   "source": [
    "import torch\n",
    "import numpy as np"
   ]
  },
  {
   "cell_type": "code",
   "execution_count": 6,
   "id": "8030a104",
   "metadata": {},
   "outputs": [],
   "source": [
    "import sys\n",
    "sys.path.append(\"/home/nima/Git/discrete_rep_classification/pytorch/\")"
   ]
  },
  {
   "cell_type": "code",
   "execution_count": 113,
   "id": "2dd23607",
   "metadata": {},
   "outputs": [],
   "source": [
    "from models import SimpMLP\n",
    "from datautils import TrainLoader, TestLoader, TestSet\n",
    "from train import Train"
   ]
  },
  {
   "cell_type": "code",
   "execution_count": 118,
   "id": "1a6b19b1",
   "metadata": {},
   "outputs": [],
   "source": [
    "model = SimpMLP(noise_var=0.5)"
   ]
  },
  {
   "cell_type": "code",
   "execution_count": 119,
   "id": "2e8ddf64",
   "metadata": {},
   "outputs": [
    {
     "name": "stdout",
     "output_type": "stream",
     "text": [
      "epoch : 0, acc: 94.9000015258789, loss: 216.68738521635532\n",
      "epoch : 1, acc: 96.1500015258789, loss: 82.39944809675217\n",
      "epoch : 2, acc: 96.37999725341797, loss: 66.13432697206736\n",
      "epoch : 3, acc: 96.0199966430664, loss: 60.11558239534497\n",
      "epoch : 4, acc: 96.37999725341797, loss: 59.12479134462774\n",
      "epoch : 5, acc: 96.11000061035156, loss: 59.29881828837097\n",
      "epoch : 6, acc: 95.93000030517578, loss: 59.340335560031235\n",
      "epoch : 7, acc: 96.27999877929688, loss: 58.297869567759335\n",
      "epoch : 8, acc: 96.08000183105469, loss: 58.90820872411132\n",
      "epoch : 9, acc: 96.0, loss: 60.72284962795675\n"
     ]
    }
   ],
   "source": [
    "Train(\n",
    "model,\n",
    "TrainLoader,\n",
    "TestLoader,\n",
    "learning_rate=1e-03\n",
    ")"
   ]
  },
  {
   "cell_type": "code",
   "execution_count": 120,
   "id": "ffaafe77",
   "metadata": {},
   "outputs": [],
   "source": [
    "import matplotlib.pyplot as plt"
   ]
  },
  {
   "cell_type": "code",
   "execution_count": 127,
   "id": "1555a4bc",
   "metadata": {},
   "outputs": [],
   "source": [
    "i, l = TestSet[22]"
   ]
  },
  {
   "cell_type": "code",
   "execution_count": 128,
   "id": "b49930e3",
   "metadata": {},
   "outputs": [
    {
     "data": {
      "text/plain": [
       "6"
      ]
     },
     "execution_count": 128,
     "metadata": {},
     "output_type": "execute_result"
    }
   ],
   "source": [
    "l"
   ]
  },
  {
   "cell_type": "code",
   "execution_count": 132,
   "id": "a7bf7e48",
   "metadata": {},
   "outputs": [],
   "source": [
    "rep = model.rep_layers( torch.from_numpy(i) )"
   ]
  },
  {
   "cell_type": "code",
   "execution_count": 133,
   "id": "b9d212e9",
   "metadata": {},
   "outputs": [
    {
     "data": {
      "text/plain": [
       "tensor([0.0000e+00, 1.0000e+00, 1.0000e+00, 1.0000e+00, 0.0000e+00, 1.4799e-27,\n",
       "        0.0000e+00, 0.0000e+00, 1.0000e+00, 1.0000e+00, 1.0000e+00, 1.6737e-19,\n",
       "        1.0000e+00, 0.0000e+00, 1.0000e+00, 1.0000e+00, 1.5581e-16, 0.0000e+00,\n",
       "        1.0000e+00, 1.0000e+00, 0.0000e+00, 2.5118e-01, 1.5217e-34, 1.0000e+00,\n",
       "        0.0000e+00, 0.0000e+00, 0.0000e+00, 0.0000e+00, 0.0000e+00, 1.0000e+00,\n",
       "        0.0000e+00, 0.0000e+00, 0.0000e+00, 0.0000e+00, 0.0000e+00, 0.0000e+00,\n",
       "        0.0000e+00, 0.0000e+00, 1.0000e+00, 0.0000e+00, 1.0000e+00, 1.0000e+00,\n",
       "        0.0000e+00, 0.0000e+00, 1.0000e+00, 0.0000e+00, 1.0000e+00, 0.0000e+00,\n",
       "        0.0000e+00, 0.0000e+00, 1.0000e+00, 1.0000e+00, 1.0000e+00, 1.0000e+00,\n",
       "        1.0000e+00, 9.9933e-01, 0.0000e+00, 0.0000e+00, 0.0000e+00, 0.0000e+00,\n",
       "        1.0000e+00, 0.0000e+00, 1.0000e+00, 0.0000e+00, 1.6082e-16, 1.0000e+00,\n",
       "        1.0000e+00, 1.0000e+00, 0.0000e+00, 1.0000e+00, 1.0000e+00, 0.0000e+00,\n",
       "        0.0000e+00, 0.0000e+00, 0.0000e+00, 1.0000e+00, 0.0000e+00, 0.0000e+00,\n",
       "        3.3863e-10, 0.0000e+00, 1.0000e+00, 1.0000e+00, 1.0000e+00, 0.0000e+00,\n",
       "        1.0000e+00, 1.0000e+00, 0.0000e+00, 1.0000e+00, 1.0000e+00, 1.0000e+00,\n",
       "        1.0000e+00, 1.0000e+00, 1.0000e+00, 0.0000e+00, 0.0000e+00, 0.0000e+00,\n",
       "        0.0000e+00, 2.8588e-16, 0.0000e+00, 1.0000e+00],\n",
       "       grad_fn=<SigmoidBackward0>)"
      ]
     },
     "execution_count": 133,
     "metadata": {},
     "output_type": "execute_result"
    }
   ],
   "source": [
    "rep"
   ]
  },
  {
   "cell_type": "code",
   "execution_count": null,
   "id": "3be5b9b5",
   "metadata": {},
   "outputs": [],
   "source": []
  }
 ],
 "metadata": {
  "kernelspec": {
   "display_name": "Python 3",
   "language": "python",
   "name": "python3"
  },
  "language_info": {
   "codemirror_mode": {
    "name": "ipython",
    "version": 3
   },
   "file_extension": ".py",
   "mimetype": "text/x-python",
   "name": "python",
   "nbconvert_exporter": "python",
   "pygments_lexer": "ipython3",
   "version": "3.7.13"
  }
 },
 "nbformat": 4,
 "nbformat_minor": 5
}
