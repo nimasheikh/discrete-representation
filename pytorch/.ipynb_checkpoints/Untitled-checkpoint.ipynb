{
 "cells": [
  {
   "cell_type": "code",
   "execution_count": 61,
   "id": "ed4685ee",
   "metadata": {},
   "outputs": [],
   "source": [
    "from collections import defaultdict"
   ]
  },
  {
   "cell_type": "code",
   "execution_count": 32,
   "id": "8396c4ad",
   "metadata": {},
   "outputs": [
    {
     "name": "stdout",
     "output_type": "stream",
     "text": [
      "The autoreload extension is already loaded. To reload it, use:\n",
      "  %reload_ext autoreload\n"
     ]
    }
   ],
   "source": [
    "%load_ext autoreload"
   ]
  },
  {
   "cell_type": "code",
   "execution_count": 33,
   "id": "7b222ccb",
   "metadata": {},
   "outputs": [],
   "source": [
    "%autoreload 2"
   ]
  },
  {
   "cell_type": "code",
   "execution_count": 34,
   "id": "11fec8a2",
   "metadata": {},
   "outputs": [],
   "source": [
    "import torch\n",
    "import numpy as np"
   ]
  },
  {
   "cell_type": "code",
   "execution_count": 49,
   "id": "8030a104",
   "metadata": {},
   "outputs": [],
   "source": [
    "import sys\n",
    "sys.path.append(\"/home/nima/Git/discrete_rep_classification/pytorch/\")"
   ]
  },
  {
   "cell_type": "code",
   "execution_count": 53,
   "id": "2dd23607",
   "metadata": {},
   "outputs": [],
   "source": [
    "from models import SimpMLP\n",
    "from datautils import TrainLoader, TestLoader, TestSet\n",
    "from train import Train"
   ]
  },
  {
   "cell_type": "code",
   "execution_count": 54,
   "id": "1a6b19b1",
   "metadata": {},
   "outputs": [],
   "source": [
    "model = SimpMLP(noise_var=0.5)"
   ]
  },
  {
   "cell_type": "code",
   "execution_count": 55,
   "id": "2e8ddf64",
   "metadata": {},
   "outputs": [
    {
     "name": "stdout",
     "output_type": "stream",
     "text": [
      "epoch : 0, acc: 51.08000183105469, loss: 1201.5660928487778\n",
      "epoch : 1, acc: 66.13999938964844, loss: 964.338885307312\n",
      "epoch : 2, acc: 69.5, loss: 799.1645933389664\n",
      "epoch : 3, acc: 78.43000030517578, loss: 682.3104012012482\n",
      "epoch : 4, acc: 76.5199966430664, loss: 604.0650346279144\n",
      "epoch : 5, acc: 78.62000274658203, loss: 605.2892681956291\n",
      "epoch : 6, acc: 87.27999877929688, loss: 525.2872784137726\n",
      "epoch : 7, acc: 86.62999725341797, loss: 492.32279139757156\n",
      "epoch : 8, acc: 86.83000183105469, loss: 471.2313268482685\n",
      "epoch : 9, acc: 85.33000183105469, loss: 459.3300822675228\n"
     ]
    }
   ],
   "source": [
    "Train(\n",
    "model,\n",
    "TrainLoader,\n",
    "TestLoader,\n",
    "learning_rate=1e-03\n",
    ")"
   ]
  },
  {
   "cell_type": "code",
   "execution_count": 71,
   "id": "be59109b",
   "metadata": {},
   "outputs": [],
   "source": [
    "test_ = defaultdict(lambda : [])"
   ]
  },
  {
   "cell_type": "code",
   "execution_count": 72,
   "id": "ffaafe77",
   "metadata": {},
   "outputs": [],
   "source": [
    "import matplotlib.pyplot as plt"
   ]
  },
  {
   "cell_type": "code",
   "execution_count": 73,
   "id": "1555a4bc",
   "metadata": {},
   "outputs": [],
   "source": [
    "i, l = TestSet[22]"
   ]
  },
  {
   "cell_type": "code",
   "execution_count": 74,
   "id": "b49930e3",
   "metadata": {},
   "outputs": [],
   "source": [
    "for i, l in TestSet:\n",
    "    test_[l].append(torch.from_numpy(i))"
   ]
  },
  {
   "cell_type": "code",
   "execution_count": 75,
   "id": "1912e9d1",
   "metadata": {},
   "outputs": [
    {
     "data": {
      "text/plain": [
       "dict_keys([7, 2, 1, 0, 4, 9, 5, 6, 3, 8])"
      ]
     },
     "execution_count": 75,
     "metadata": {},
     "output_type": "execute_result"
    }
   ],
   "source": [
    "test_.keys()"
   ]
  },
  {
   "cell_type": "code",
   "execution_count": 89,
   "id": "a7bf7e48",
   "metadata": {},
   "outputs": [],
   "source": [
    "reps = defaultdict(lambda : [])\n",
    "with torch.no_grad():\n",
    "    for i in range(10):\n",
    "        reps[i].extend([ \n",
    "            tuple(map(int, model.representation(img)[0].tolist())) for img in test_[i] \n",
    "        ] )"
   ]
  },
  {
   "cell_type": "code",
   "execution_count": 91,
   "id": "b9d212e9",
   "metadata": {},
   "outputs": [
    {
     "data": {
      "text/plain": [
       "{(0, 0, 0, 0, 0),\n",
       " (0, 0, 0, 0, 1),\n",
       " (0, 0, 0, 1, 0),\n",
       " (0, 0, 0, 1, 1),\n",
       " (0, 1, 0, 0, 0),\n",
       " (0, 1, 0, 0, 1),\n",
       " (0, 1, 0, 1, 0),\n",
       " (0, 1, 0, 1, 1),\n",
       " (1, 0, 0, 1, 0)}"
      ]
     },
     "execution_count": 91,
     "metadata": {},
     "output_type": "execute_result"
    }
   ],
   "source": [
    "set(reps[0])\n"
   ]
  },
  {
   "cell_type": "code",
   "execution_count": null,
   "id": "3be5b9b5",
   "metadata": {},
   "outputs": [],
   "source": []
  },
  {
   "cell_type": "code",
   "execution_count": null,
   "id": "83f5aafc",
   "metadata": {},
   "outputs": [],
   "source": []
  },
  {
   "cell_type": "code",
   "execution_count": null,
   "id": "51a13885",
   "metadata": {},
   "outputs": [],
   "source": []
  }
 ],
 "metadata": {
  "kernelspec": {
   "display_name": "Python 3 (ipykernel)",
   "language": "python",
   "name": "python3"
  },
  "language_info": {
   "codemirror_mode": {
    "name": "ipython",
    "version": 3
   },
   "file_extension": ".py",
   "mimetype": "text/x-python",
   "name": "python",
   "nbconvert_exporter": "python",
   "pygments_lexer": "ipython3",
   "version": "3.8.13"
  }
 },
 "nbformat": 4,
 "nbformat_minor": 5
}
